{
 "cells": [
  {
   "cell_type": "markdown",
   "metadata": {
    "id": "C3KPywkiyj7M",
    "colab_type": "text"
   },
   "source": [
    "**Mount from Google drive**"
   ]
  },
  {
   "cell_type": "code",
   "execution_count": 0,
   "metadata": {
    "id": "84W_MpDA8urf",
    "colab_type": "code",
    "outputId": "ce3011c5-ce1c-4405-f6bc-d1bca76ac038",
    "executionInfo": {
     "status": "ok",
     "timestamp": 1.587973372844E12,
     "user_tz": -180.0,
     "elapsed": 17228.0,
     "user": {
      "displayName": "Allon Hammer",
      "photoUrl": "",
      "userId": "02574940989744991599"
     }
    },
    "colab": {
     "base_uri": "https://localhost:8080/",
     "height": 122.0
    }
   },
   "outputs": [
    {
     "name": "stdout",
     "output_type": "stream",
     "text": [
      "Go to this URL in a browser: https://accounts.google.com/o/oauth2/auth?client_id=947318989803-6bn6qk8qdgf4n4g3pfee6491hc0brc4i.apps.googleusercontent.com&redirect_uri=urn%3aietf%3awg%3aoauth%3a2.0%3aoob&response_type=code&scope=email%20https%3a%2f%2fwww.googleapis.com%2fauth%2fdocs.test%20https%3a%2f%2fwww.googleapis.com%2fauth%2fdrive%20https%3a%2f%2fwww.googleapis.com%2fauth%2fdrive.photos.readonly%20https%3a%2f%2fwww.googleapis.com%2fauth%2fpeopleapi.readonly\n",
      "\n",
      "Enter your authorization code:\n",
      "··········\n",
      "Mounted at /content/drive/\n"
     ]
    }
   ],
   "source": [
    "from google.colab import drive\n",
    "drive.mount('/content/drive/', force_remount=True)"
   ]
  },
  {
   "cell_type": "markdown",
   "metadata": {
    "id": "U_AplGaQ7kvF",
    "colab_type": "text"
   },
   "source": [
    "**Check for GPU**"
   ]
  },
  {
   "cell_type": "code",
   "execution_count": 0,
   "metadata": {
    "id": "yc3cjVeywHJI",
    "colab_type": "code",
    "outputId": "4541f793-729a-4456-f015-498f286da221",
    "executionInfo": {
     "status": "ok",
     "timestamp": 1.58797338591E12,
     "user_tz": -180.0,
     "elapsed": 10115.0,
     "user": {
      "displayName": "Allon Hammer",
      "photoUrl": "",
      "userId": "02574940989744991599"
     }
    },
    "colab": {
     "base_uri": "https://localhost:8080/",
     "height": 476.0
    }
   },
   "outputs": [
    {
     "data": {
      "text/plain": [
       "[name: \"/device:CPU:0\"\n",
       " device_type: \"CPU\"\n",
       " memory_limit: 268435456\n",
       " locality {\n",
       " }\n",
       " incarnation: 10160519308281190211, name: \"/device:XLA_CPU:0\"\n",
       " device_type: \"XLA_CPU\"\n",
       " memory_limit: 17179869184\n",
       " locality {\n",
       " }\n",
       " incarnation: 14866664249390565754\n",
       " physical_device_desc: \"device: XLA_CPU device\", name: \"/device:XLA_GPU:0\"\n",
       " device_type: \"XLA_GPU\"\n",
       " memory_limit: 17179869184\n",
       " locality {\n",
       " }\n",
       " incarnation: 12573730299510525928\n",
       " physical_device_desc: \"device: XLA_GPU device\", name: \"/device:GPU:0\"\n",
       " device_type: \"GPU\"\n",
       " memory_limit: 15701463552\n",
       " locality {\n",
       "   bus_id: 1\n",
       "   links {\n",
       "   }\n",
       " }\n",
       " incarnation: 2493297777497726975\n",
       " physical_device_desc: \"device: 0, name: Tesla P100-PCIE-16GB, pci bus id: 0000:00:04.0, compute capability: 6.0\"]"
      ]
     },
     "execution_count": 2,
     "metadata": {
      "tags": []
     },
     "output_type": "execute_result"
    }
   ],
   "source": [
    "from tensorflow.python.client import device_lib\n",
    "device_lib.list_local_devices()"
   ]
  },
  {
   "cell_type": "code",
   "execution_count": 0,
   "metadata": {
    "id": "DR5iljRTvUfo",
    "colab_type": "code",
    "outputId": "acf509bb-3577-41fe-fe81-1521c0a3d39e",
    "executionInfo": {
     "status": "ok",
     "timestamp": 1.587973385911E12,
     "user_tz": -180.0,
     "elapsed": 6068.0,
     "user": {
      "displayName": "Allon Hammer",
      "photoUrl": "",
      "userId": "02574940989744991599"
     }
    },
    "colab": {
     "base_uri": "https://localhost:8080/",
     "height": 34.0
    }
   },
   "outputs": [
    {
     "data": {
      "text/plain": [
       "'/device:GPU:0'"
      ]
     },
     "execution_count": 3,
     "metadata": {
      "tags": []
     },
     "output_type": "execute_result"
    }
   ],
   "source": [
    "import tensorflow as tf\n",
    "tf.test.gpu_device_name()"
   ]
  },
  {
   "cell_type": "markdown",
   "metadata": {
    "id": "Cu4gZT829jn_",
    "colab_type": "text"
   },
   "source": [
    "**Navigate to mounted project from Google Drive**"
   ]
  },
  {
   "cell_type": "code",
   "execution_count": 0,
   "metadata": {
    "id": "VMtd1OaUvmrF",
    "colab_type": "code",
    "outputId": "365247ce-6d3e-464d-96db-88d314875cb7",
    "executionInfo": {
     "status": "ok",
     "timestamp": 1.587973385912E12,
     "user_tz": -180.0,
     "elapsed": 4935.0,
     "user": {
      "displayName": "Allon Hammer",
      "photoUrl": "",
      "userId": "02574940989744991599"
     }
    },
    "colab": {
     "base_uri": "https://localhost:8080/",
     "height": 34.0
    }
   },
   "outputs": [
    {
     "name": "stdout",
     "output_type": "stream",
     "text": [
      "/content/drive/My Drive/ex2_201641164_304862675\n"
     ]
    }
   ],
   "source": [
    "cd \"/content/drive/My Drive/ex2_201641164_304862675/\""
   ]
  },
  {
   "cell_type": "code",
   "execution_count": 0,
   "metadata": {
    "id": "XLJLsKJ01rPh",
    "colab_type": "code",
    "outputId": "60ace38e-f14b-43d0-ba92-e8c4dbd44374",
    "executionInfo": {
     "status": "ok",
     "timestamp": 1.587973394036E12,
     "user_tz": -180.0,
     "elapsed": 657.0,
     "user": {
      "displayName": "Allon Hammer",
      "photoUrl": "",
      "userId": "02574940989744991599"
     }
    },
    "colab": {
     "base_uri": "https://localhost:8080/",
     "height": 34.0
    }
   },
   "outputs": [
    {
     "name": "stderr",
     "output_type": "stream",
     "text": [
      "Using TensorFlow backend.\n"
     ]
    }
   ],
   "source": [
    "import tensorflow as tf\n",
    "import os\n",
    "import collections\n",
    "import numpy as np\n",
    "from keras.utils import to_categorical\n",
    "from keras.models import Sequential, load_model\n",
    "from keras.layers import Dense,  Embedding, Dropout, TimeDistributed, Activation\n",
    "from keras.layers import LSTM, GRU\n",
    "from keras.optimizers import Adam, SGD\n",
    "from keras.utils import to_categorical\n",
    "from keras.callbacks import ModelCheckpoint\n",
    "from keras.callbacks import Callback\n",
    "from keras.constraints import max_norm\n",
    "from keras.initializers import RandomUniform\n",
    "from matplotlib import pyplot as plt"
   ]
  },
  {
   "cell_type": "markdown",
   "metadata": {
    "id": "JIQifWX91xhy",
    "colab_type": "text"
   },
   "source": [
    "**Data Parsing**"
   ]
  },
  {
   "cell_type": "code",
   "execution_count": 0,
   "metadata": {
    "id": "ZOef0nAY1Pia",
    "colab_type": "code",
    "colab": {}
   },
   "outputs": [],
   "source": [
    "def read_words(filename):\n",
    "    \"\"\"\n",
    "    reads file\n",
    "    :param filename: str, location of file\n",
    "    :return: lst\n",
    "    \"\"\"\n",
    "    with tf.io.gfile.GFile(filename, \"r\") as f:\n",
    "        return f.read().replace(\"\\n\", \"<eos>\").split()\n",
    "\n",
    "\n",
    "def build_vocab(filename):\n",
    "    \"\"\"\n",
    "    creates mapping from word to integer\n",
    "    :param filename: str, location of file\n",
    "    :return: dict <key: str, value: int>\n",
    "    \"\"\"\n",
    "    lst = read_words(filename)\n",
    "    counter = collections.Counter(lst)\n",
    "    count_pairs = sorted(counter.items(), key=lambda x: (-x[1], x[0]))\n",
    "    words, _ = list(zip(*count_pairs))\n",
    "    word_to_idx = dict(zip(words, range(len(words))))\n",
    "    return word_to_idx\n",
    "\n",
    "\n",
    "def file_to_word_ids(filename, word_to_id):\n",
    "    \"\"\"\n",
    "    reads file and converts each word in the file to the matching index,\n",
    "    and makes sure there is no words in the files that are not in the mapping\n",
    "    :param filename: str, location of file\n",
    "    :param word_to_id: dict <key: str, value: int>\n",
    "    :return:list\n",
    "    \"\"\"\n",
    "    data = read_words(filename)\n",
    "    return [word_to_id[word] for word in data if word in word_to_id]\n",
    "\n",
    "\n",
    "\n",
    "def load_data():\n",
    "    \"\"\"\n",
    "    reads train , validation and test files, creates mapping word--> idx,\n",
    "    replaces the words in the files with the matching indexes from the mapping,\n",
    "    creates the reverse mapping idx --> word, adds vocab size\n",
    "    :return: list\n",
    "    :return: list\n",
    "    :return: list\n",
    "    :return: int\n",
    "    :return dict <key: int, value: str>\n",
    "    \"\"\"\n",
    "    # get the data paths\n",
    "    train_path = os.path.join(DATA_PATH, \"ptb.train.txt\")\n",
    "    valid_path = os.path.join(DATA_PATH, \"ptb.valid.txt\")\n",
    "    test_path = os.path.join(DATA_PATH, \"ptb.test.txt\")\n",
    "\n",
    "    # build the complete vocabulary, then convert text data to list of integers\n",
    "    word_to_idx = build_vocab(train_path)\n",
    "    train_data = file_to_word_ids(train_path, word_to_idx)\n",
    "    valid_data = file_to_word_ids(valid_path, word_to_idx)\n",
    "    test_data = file_to_word_ids(test_path, word_to_idx)\n",
    "    v = len(word_to_idx)\n",
    "    idx_to_word = dict(zip(word_to_idx.values(), word_to_idx.keys()))\n",
    "\n",
    "    return train_data, valid_data, test_data, v, idx_to_word\n"
   ]
  },
  {
   "cell_type": "markdown",
   "metadata": {
    "id": "2R2fQcrc166q",
    "colab_type": "text"
   },
   "source": [
    "**Data Generator**"
   ]
  },
  {
   "cell_type": "code",
   "execution_count": 0,
   "metadata": {
    "id": "VNz0V_df1iAw",
    "colab_type": "code",
    "colab": {}
   },
   "outputs": [],
   "source": [
    "class KerasBatchGenerator(object):\n",
    "\n",
    "\n",
    "    def __init__(self, data, num_steps, batch_size, v):\n",
    "        \"\"\"\n",
    "\n",
    "        :param data: list of integers\n",
    "        :param num_steps: int , represents time dimension\n",
    "        :param batch_size: int\n",
    "        :param v: int , voacb size\n",
    "       \n",
    "        \"\"\"\n",
    "        self.data = data\n",
    "        self.num_steps = num_steps\n",
    "        self.batch_size = batch_size\n",
    "        self.v = v\n",
    "        # this will track the progress of the batches sequentially through the\n",
    "        # data set - once the data reaches the end of the data set it will reset\n",
    "        # back to zero\n",
    "        self.current_idx = 0\n",
    "\n",
    "    def generate(self):\n",
    "        \"\"\"\n",
    "\n",
    "        :yields: iterator : (x np.array [batch_size, num_steps], y np.array [batch_size, vocab_size])\n",
    "        \"\"\"\n",
    "\n",
    "\n",
    "        x = np.zeros((self.batch_size, self.num_steps)) #input fed to Embedding() layer must be [batch_size, time_dim]. After Embedding it will become 3D for LSTM\n",
    "        y = np.zeros((self.batch_size, self.num_steps, self.v)) #we  output the whole sequence so we can learn quicker\n",
    "        while True:\n",
    "            for i in range(self.batch_size): # i is a row in our data\n",
    "                if self.current_idx + self.num_steps >= len(self.data):\n",
    "                    # reset the index back to the start of the data set if we pass the end of the list\n",
    "                    self.current_idx = 0\n",
    "                x[i, :] = self.data[self.current_idx:self.current_idx + self.num_steps] #get [X(t-n), X(t-n+1), ... X(t-1), X(t)]\n",
    "                temp_y = self.data[self.current_idx + 1:self.current_idx + self.num_steps + 1] # get [X(t-n+1), X(t-n+2)... X(t), X(t+1)]\n",
    "                # convert all of temp_y into a one hot representation\n",
    "                y[i, :, :] = to_categorical(temp_y, num_classes=self.v)\n",
    "                self.current_idx += self.num_steps \n",
    "\n",
    "\n",
    "            yield x, y\n"
   ]
  },
  {
   "cell_type": "markdown",
   "metadata": {
    "id": "pLS8No9S2LsL",
    "colab_type": "text"
   },
   "source": [
    "**Some Utils**"
   ]
  },
  {
   "cell_type": "code",
   "execution_count": 0,
   "metadata": {
    "id": "_BmceDmJ1lNY",
    "colab_type": "code",
    "colab": {}
   },
   "outputs": [],
   "source": [
    "def check_data_gen(data,v):\n",
    "    \"\"\"\n",
    "    Creates one iteration from the generator\n",
    "    :param data: list of integers\n",
    "    :param v: int , voacb size\n",
    "    :return:\n",
    "    \"\"\"\n",
    "    test_gen = KerasBatchGenerator(data, num_steps=5, batch_size=10, v=v)\n",
    "    print('hi the original data (first 50 indices ) is ')\n",
    "    print(data[0:50])\n",
    "    x, y = next(test_gen.generate())\n",
    "    print(x.shape, y.shape)\n",
    "    print('this is a batch of size : ', 10, ' and time dim of ', 5)\n",
    "    print('X is ')\n",
    "    print(x)\n",
    "    print('y is ')\n",
    "    print(y)\n",
    "    print(' argmax of y is ')\n",
    "    print(np.argmax(y, axis=2))"
   ]
  },
  {
   "cell_type": "code",
   "execution_count": 0,
   "metadata": {
    "id": "RW6B8OwH1nb3",
    "colab_type": "code",
    "colab": {}
   },
   "outputs": [],
   "source": [
    "def plot_results(loss, val_loss,  epochs, suffix=None):\n",
    "    \"\"\" Saves plot of convergence graph\n",
    "\n",
    "    :param loss: lst\n",
    "    :param val_loss: lst\n",
    "    :param epochs: int\n",
    "    :param suffix: str\n",
    "    :return:\n",
    "    \"\"\"\n",
    "\n",
    "    num_epochs = np.arange(1,epochs+1)\n",
    "    plt.figure(dpi=200)\n",
    "    plt.style.use('ggplot')\n",
    "    plt.plot(num_epochs, loss, label='train_perplexity', c='red')\n",
    "    plt.plot(num_epochs, val_loss, label='test_perplexity', c='green')\n",
    "    plt.title('Convergence Graph- {}'.format(suffix))\n",
    "    plt.xlabel('Epoch')\n",
    "    plt.ylabel('Perplexity')\n",
    "    plt.legend()\n",
    "    plt.savefig('./plots/Convergence Graph- {}.png'.format(suffix))"
   ]
  },
  {
   "cell_type": "code",
   "execution_count": 0,
   "metadata": {
    "id": "gXv8lE3sF80o",
    "colab_type": "code",
    "colab": {}
   },
   "outputs": [],
   "source": [
    "def load_pretrained_model(path_to_model):\n",
    "  \"\"\" Loads pretrained model and calculated preplexity on hold out test data.\n",
    "  :param path_to_model: str\n",
    "  :return:\n",
    "  \"\"\"\n",
    "\n",
    "  model = load_model(path_to_model)\n",
    "  test_results = model.evaluate_generator(test_data_generator.generate(), steps= len(test_data)//(batch_size*num_steps))\n",
    "  print('Perplexity on Test Set: {}'.format( np.power(2,test_results[0])))\n",
    "  print('Crossentropy on Test Set: {}'.format((test_results[0])))\n",
    "\n",
    "\n",
    " \n",
    "\n"
   ]
  },
  {
   "cell_type": "markdown",
   "metadata": {
    "id": "CNW7bMSBLgWc",
    "colab_type": "text"
   },
   "source": [
    "To start training the model run the following cells. \n",
    "# Warning: this might take a while, to load a pretrained model skip to the final secion\n",
    "\n",
    "---\n",
    "\n"
   ]
  },
  {
   "cell_type": "markdown",
   "metadata": {
    "id": "aHuZMYOD2fQw",
    "colab_type": "text"
   },
   "source": [
    "**Change USE_GRU and USE_DROPOUT to generate 4 differnet models**"
   ]
  },
  {
   "cell_type": "code",
   "execution_count": 0,
   "metadata": {
    "id": "-KryZ9G-1pt7",
    "colab_type": "code",
    "colab": {}
   },
   "outputs": [],
   "source": [
    "DATA_PATH = './data'\n",
    "MODEL_PATH = './pretrained_models'\n",
    "USE_GRU = True\n",
    "USE_DROPOUT = False"
   ]
  },
  {
   "cell_type": "code",
   "execution_count": 0,
   "metadata": {
    "id": "8YzRid_q2ae7",
    "colab_type": "code",
    "colab": {}
   },
   "outputs": [],
   "source": [
    "train_data, valid_data, test_data, V, idx_to_word = load_data()\n"
   ]
  },
  {
   "cell_type": "code",
   "execution_count": 0,
   "metadata": {
    "id": "MMwhcQYZ2_vr",
    "colab_type": "code",
    "colab": {}
   },
   "outputs": [],
   "source": [
    "ppe_train = []\n",
    "ppe_val = []\n",
    "seed = 42\n",
    "num_steps = 35\n",
    "batch_size =64\n",
    "embedding_dim = 200 \n",
    "hidden_units = 200 \n",
    "dropout = 0.5 if USE_DROPOUT else 0.0\n",
    "nb_epoch = 39 \n",
    "#check_data_gen(train_data, V)\n",
    "train_data_generator = KerasBatchGenerator(train_data, num_steps, batch_size, V)\n",
    "valid_data_generator = KerasBatchGenerator(valid_data, num_steps, batch_size, V)\n",
    "test_data_generator = KerasBatchGenerator(test_data, num_steps, batch_size, V)"
   ]
  },
  {
   "cell_type": "code",
   "execution_count": 19,
   "metadata": {
    "id": "Ow-ubMob3GIG",
    "colab_type": "code",
    "outputId": "9ba4a251-b954-4376-8204-06dda3dec021",
    "executionInfo": {
     "status": "ok",
     "timestamp": 1.587983166953E12,
     "user_tz": -180.0,
     "elapsed": 4957451.0,
     "user": {
      "displayName": "Allon Hammer",
      "photoUrl": "",
      "userId": "02574940989744991599"
     }
    },
    "colab": {
     "base_uri": "https://localhost:8080/",
     "height": 1000.0
    }
   },
   "outputs": [
    {
     "name": "stdout",
     "output_type": "stream",
     "text": [
      "Model: \"sequential_2\"\n",
      "_________________________________________________________________\n",
      "Layer (type)                 Output Shape              Param #   \n",
      "=================================================================\n",
      "embedding_2 (Embedding)      (64, 35, 200)             2000000   \n",
      "_________________________________________________________________\n",
      "gru_1 (GRU)                  (64, 35, 200)             240600    \n",
      "_________________________________________________________________\n",
      "gru_2 (GRU)                  (64, 35, 200)             240600    \n",
      "_________________________________________________________________\n",
      "dropout_2 (Dropout)          (64, 35, 200)             0         \n",
      "_________________________________________________________________\n",
      "time_distributed_2 (TimeDist (64, 35, 10000)           2010000   \n",
      "_________________________________________________________________\n",
      "activation_2 (Activation)    (64, 35, 10000)           0         \n",
      "=================================================================\n",
      "Total params: 4,491,200\n",
      "Trainable params: 4,491,200\n",
      "Non-trainable params: 0\n",
      "_________________________________________________________________\n",
      "None\n"
     ]
    },
    {
     "name": "stderr",
     "output_type": "stream",
     "text": [
      "/usr/local/lib/python3.6/dist-packages/tensorflow/python/framework/indexed_slices.py:434: UserWarning: Converting sparse IndexedSlices to a dense Tensor of unknown shape. This may consume a large amount of memory.\n",
      "  \"Converting sparse IndexedSlices to a dense Tensor of unknown shape. \"\n"
     ]
    },
    {
     "name": "stdout",
     "output_type": "stream",
     "text": [
      "Epoch 1/1\n",
      "414/414 [==============================] - 73s 177ms/step - loss: 7.5908 - categorical_accuracy: 0.0497 - val_loss: 7.6057 - val_categorical_accuracy: 0.0564\n",
      "After Epoch : 1, PPE train : 184.87239020162662, PPE val : 178.62103666006973\n",
      "Epoch 1/1\n",
      "414/414 [==============================] - 78s 189ms/step - loss: 7.5899 - categorical_accuracy: 0.0489 - val_loss: 8.1954 - val_categorical_accuracy: 0.0556\n",
      "After Epoch : 2, PPE train : 163.76384170256702, PPE val : 194.60827479834285\n",
      "Epoch 1/1\n",
      "414/414 [==============================] - 75s 181ms/step - loss: 7.5684 - categorical_accuracy: 0.0498 - val_loss: 7.2011 - val_categorical_accuracy: 0.0558\n",
      "After Epoch : 3, PPE train : 208.07738622102914, PPE val : 220.19116924011158\n",
      "Epoch 1/1\n",
      "414/414 [==============================] - 76s 184ms/step - loss: 7.5600 - categorical_accuracy: 0.0507 - val_loss: 7.5667 - val_categorical_accuracy: 0.0560\n",
      "After Epoch : 4, PPE train : 163.51234469051852, PPE val : 195.7567032618193\n",
      "Epoch 1/1\n",
      "414/414 [==============================] - 75s 180ms/step - loss: 7.5543 - categorical_accuracy: 0.0512 - val_loss: 7.5173 - val_categorical_accuracy: 0.0558\n",
      "After Epoch : 5, PPE train : 192.84139000202822, PPE val : 206.49367820022934\n",
      "Epoch 1/1\n",
      "414/414 [==============================] - 75s 182ms/step - loss: 7.5456 - categorical_accuracy: 0.0518 - val_loss: 7.8666 - val_categorical_accuracy: 0.0587\n",
      "After Epoch : 6, PPE train : 165.52249249074978, PPE val : 169.30211795235724\n",
      "Epoch 1/1\n",
      "414/414 [==============================] - 76s 183ms/step - loss: 7.2550 - categorical_accuracy: 0.0572 - val_loss: 6.8187 - val_categorical_accuracy: 0.0628\n",
      "After Epoch : 7, PPE train : 108.67095272568703, PPE val : 118.33781788887273\n",
      "Epoch 1/1\n",
      "414/414 [==============================] - 75s 181ms/step - loss: 6.8745 - categorical_accuracy: 0.0695 - val_loss: 6.8095 - val_categorical_accuracy: 0.0800\n",
      "After Epoch : 8, PPE train : 127.83363273786138, PPE val : 113.87380881002115\n",
      "Epoch 1/1\n",
      "414/414 [==============================] - 76s 183ms/step - loss: 6.6918 - categorical_accuracy: 0.0839 - val_loss: 6.2745 - val_categorical_accuracy: 0.0936\n",
      "After Epoch : 9, PPE train : 94.38114128947706, PPE val : 95.37867937597537\n",
      "Epoch 1/1\n",
      "414/414 [==============================] - 79s 191ms/step - loss: 6.2795 - categorical_accuracy: 0.1035 - val_loss: 6.2442 - val_categorical_accuracy: 0.1120\n",
      "After Epoch : 10, PPE train : 68.35009893557493, PPE val : 69.9534620923986\n",
      "Epoch 1/1\n",
      "414/414 [==============================] - 77s 186ms/step - loss: 6.2409 - categorical_accuracy: 0.1084 - val_loss: 6.2671 - val_categorical_accuracy: 0.1150\n",
      "After Epoch : 11, PPE train : 71.15137014215173, PPE val : 79.09948253766542\n",
      "Epoch 1/1\n",
      "414/414 [==============================] - 77s 185ms/step - loss: 6.1985 - categorical_accuracy: 0.1125 - val_loss: 6.4950 - val_categorical_accuracy: 0.1156\n",
      "After Epoch : 12, PPE train : 57.235301200415336, PPE val : 62.036328838148975\n",
      "Epoch 1/1\n",
      "414/414 [==============================] - 77s 186ms/step - loss: 6.1553 - categorical_accuracy: 0.1168 - val_loss: 5.6737 - val_categorical_accuracy: 0.1208\n",
      "After Epoch : 13, PPE train : 75.21851994940486, PPE val : 58.34147001982474\n",
      "Epoch 1/1\n",
      "414/414 [==============================] - 78s 188ms/step - loss: 6.1272 - categorical_accuracy: 0.1194 - val_loss: 6.2425 - val_categorical_accuracy: 0.1272\n",
      "After Epoch : 14, PPE train : 81.11766490613233, PPE val : 60.66942847587688\n",
      "Epoch 1/1\n",
      "414/414 [==============================] - 79s 190ms/step - loss: 6.0964 - categorical_accuracy: 0.1233 - val_loss: 6.0936 - val_categorical_accuracy: 0.1281\n",
      "After Epoch : 15, PPE train : 77.76297893177906, PPE val : 70.04158506588989\n",
      "Epoch 1/1\n",
      "414/414 [==============================] - 78s 187ms/step - loss: 6.0393 - categorical_accuracy: 0.1284 - val_loss: 6.0759 - val_categorical_accuracy: 0.1308\n",
      "After Epoch : 16, PPE train : 68.74279182709172, PPE val : 66.92041313780634\n",
      "Epoch 1/1\n",
      "414/414 [==============================] - 77s 187ms/step - loss: 6.0099 - categorical_accuracy: 0.1317 - val_loss: 5.9511 - val_categorical_accuracy: 0.1358\n",
      "After Epoch : 17, PPE train : 52.358416465607945, PPE val : 51.44700549791415\n",
      "Epoch 1/1\n",
      "414/414 [==============================] - 77s 187ms/step - loss: 5.9894 - categorical_accuracy: 0.1343 - val_loss: 6.3219 - val_categorical_accuracy: 0.1322\n",
      "After Epoch : 18, PPE train : 63.47406280472266, PPE val : 65.69484587604582\n",
      "Epoch 1/1\n",
      "414/414 [==============================] - 77s 186ms/step - loss: 5.9466 - categorical_accuracy: 0.1380 - val_loss: 5.7242 - val_categorical_accuracy: 0.1402\n",
      "After Epoch : 19, PPE train : 68.7957743092936, PPE val : 43.03837632445903\n",
      "Epoch 1/1\n",
      "414/414 [==============================] - 80s 192ms/step - loss: 5.8647 - categorical_accuracy: 0.1452 - val_loss: 6.1667 - val_categorical_accuracy: 0.1450\n",
      "After Epoch : 20, PPE train : 55.867355271941804, PPE val : 54.85052009912062\n",
      "Epoch 1/1\n",
      "414/414 [==============================] - 79s 191ms/step - loss: 5.8365 - categorical_accuracy: 0.1481 - val_loss: 6.1284 - val_categorical_accuracy: 0.1458\n",
      "After Epoch : 21, PPE train : 56.826526998966905, PPE val : 44.95108288701593\n",
      "Epoch 1/1\n",
      "414/414 [==============================] - 80s 193ms/step - loss: 5.8120 - categorical_accuracy: 0.1509 - val_loss: 6.1317 - val_categorical_accuracy: 0.1519\n",
      "After Epoch : 22, PPE train : 68.42885117649683, PPE val : 55.87882332874783\n",
      "Epoch 1/1\n",
      "414/414 [==============================] - 80s 193ms/step - loss: 5.7791 - categorical_accuracy: 0.1543 - val_loss: 5.9513 - val_categorical_accuracy: 0.1521\n",
      "After Epoch : 23, PPE train : 67.89698701656333, PPE val : 55.64102556413134\n",
      "Epoch 1/1\n",
      "414/414 [==============================] - 80s 193ms/step - loss: 5.7587 - categorical_accuracy: 0.1562 - val_loss: 5.9036 - val_categorical_accuracy: 0.1579\n",
      "After Epoch : 24, PPE train : 44.08008822462776, PPE val : 69.5868040392073\n",
      "Epoch 1/1\n",
      "414/414 [==============================] - 78s 189ms/step - loss: 5.7449 - categorical_accuracy: 0.1578 - val_loss: 6.0298 - val_categorical_accuracy: 0.1526\n",
      "After Epoch : 25, PPE train : 56.128266347501054, PPE val : 57.59363392954512\n",
      "Epoch 1/1\n",
      "414/414 [==============================] - 77s 187ms/step - loss: 5.7109 - categorical_accuracy: 0.1603 - val_loss: 5.7950 - val_categorical_accuracy: 0.1593\n",
      "After Epoch : 26, PPE train : 51.61275659736991, PPE val : 36.986128052458234\n",
      "Epoch 1/1\n",
      "414/414 [==============================] - 77s 186ms/step - loss: 5.6939 - categorical_accuracy: 0.1620 - val_loss: 5.3323 - val_categorical_accuracy: 0.1541\n",
      "After Epoch : 27, PPE train : 55.454767615761796, PPE val : 56.74433919735456\n",
      "Epoch 1/1\n",
      "414/414 [==============================] - 76s 185ms/step - loss: 5.6603 - categorical_accuracy: 0.1653 - val_loss: 5.3300 - val_categorical_accuracy: 0.1613\n",
      "After Epoch : 28, PPE train : 58.500674566810304, PPE val : 64.65112702556124\n",
      "Epoch 1/1\n",
      "414/414 [==============================] - 79s 190ms/step - loss: 5.6982 - categorical_accuracy: 0.1636 - val_loss: 5.7582 - val_categorical_accuracy: 0.1636\n",
      "After Epoch : 29, PPE train : 40.624854288768496, PPE val : 50.98545243049798\n",
      "Epoch 1/1\n",
      "414/414 [==============================] - 79s 191ms/step - loss: 5.5839 - categorical_accuracy: 0.1728 - val_loss: 6.0173 - val_categorical_accuracy: 0.1709\n",
      "After Epoch : 30, PPE train : 45.265290532805835, PPE val : 66.46210346741944\n",
      "Epoch 1/1\n",
      "414/414 [==============================] - 79s 191ms/step - loss: 5.5610 - categorical_accuracy: 0.1749 - val_loss: 5.3277 - val_categorical_accuracy: 0.1733\n",
      "After Epoch : 31, PPE train : 53.803498015032865, PPE val : 44.22998355592735\n",
      "Epoch 1/1\n",
      "414/414 [==============================] - 78s 189ms/step - loss: 5.5491 - categorical_accuracy: 0.1762 - val_loss: 5.6686 - val_categorical_accuracy: 0.1750\n",
      "After Epoch : 32, PPE train : 45.722790707332386, PPE val : 46.94905753145054\n",
      "Epoch 1/1\n",
      "414/414 [==============================] - 78s 188ms/step - loss: 5.5288 - categorical_accuracy: 0.1782 - val_loss: 5.4532 - val_categorical_accuracy: 0.1741\n",
      "After Epoch : 33, PPE train : 55.20698569211416, PPE val : 49.94529122330984\n",
      "Epoch 1/1\n",
      "414/414 [==============================] - 78s 188ms/step - loss: 5.5035 - categorical_accuracy: 0.1808 - val_loss: 5.5983 - val_categorical_accuracy: 0.1826\n",
      "After Epoch : 34, PPE train : 52.566893438612205, PPE val : 44.27226676383443\n",
      "Epoch 1/1\n",
      "414/414 [==============================] - 78s 189ms/step - loss: 5.5268 - categorical_accuracy: 0.1791 - val_loss: 5.5138 - val_categorical_accuracy: 0.1738\n",
      "After Epoch : 35, PPE train : 58.8066642799659, PPE val : 50.19242864984115\n",
      "Epoch 1/1\n",
      "414/414 [==============================] - 77s 186ms/step - loss: 5.5248 - categorical_accuracy: 0.1797 - val_loss: 5.7668 - val_categorical_accuracy: 0.1789\n",
      "After Epoch : 36, PPE train : 49.43612842488351, PPE val : 75.72111794469345\n",
      "Epoch 1/1\n",
      "414/414 [==============================] - 80s 192ms/step - loss: 5.4422 - categorical_accuracy: 0.1863 - val_loss: 5.0615 - val_categorical_accuracy: 0.1834\n",
      "After Epoch : 37, PPE train : 43.36308519935629, PPE val : 33.32623876562392\n",
      "Epoch 1/1\n",
      "414/414 [==============================] - 80s 193ms/step - loss: 5.4137 - categorical_accuracy: 0.1883 - val_loss: 5.2081 - val_categorical_accuracy: 0.1862\n",
      "After Epoch : 38, PPE train : 30.86038783888746, PPE val : 47.36328342649713\n",
      "Epoch 1/1\n",
      "414/414 [==============================] - 79s 192ms/step - loss: 5.3834 - categorical_accuracy: 0.1904 - val_loss: 5.4962 - val_categorical_accuracy: 0.1744\n",
      "After Epoch : 39, PPE train : 51.657863133253855, PPE val : 47.42785497712254\n",
      "evaluating on Test set\n",
      "Perplexity on Test Set: 35.94298449974991\n",
      "Crossentropy on Test Set: 5.167638301849365\n"
     ]
    }
   ],
   "source": [
    "my_init = RandomUniform(minval=-0.05, maxval=0.05, seed=seed)\n",
    "\n",
    "model = Sequential()\n",
    "model.add(Embedding(V, embedding_dim, batch_input_shape=(batch_size,num_steps) , input_length=num_steps))\n",
    "if USE_GRU:\n",
    "    model.add(GRU(units=hidden_units, batch_input_shape=(batch_size, num_steps, embedding_dim), dropout=dropout,\n",
    "                   kernel_constraint=max_norm(5.), recurrent_constraint=max_norm(5.), bias_constraint=max_norm(5.),\n",
    "                   kernel_initializer=my_init, recurrent_initializer=my_init, bias_initializer='zeros',\n",
    "                   stateful=True, return_sequences=True))\n",
    "    model.add(GRU(units=hidden_units, batch_input_shape=(batch_size, num_steps, embedding_dim), dropout=dropout,\n",
    "                   kernel_constraint=max_norm(5.), recurrent_constraint=max_norm(5.), bias_constraint=max_norm(5.),\n",
    "                   kernel_initializer=my_init, recurrent_initializer=my_init, bias_initializer='zeros',\n",
    "                   stateful=True, return_sequences=True))\n",
    "else:\n",
    "    model.add(LSTM(units = hidden_units, batch_input_shape=(batch_size,num_steps, embedding_dim), dropout = dropout,\n",
    "                   kernel_constraint=max_norm(5.), recurrent_constraint=max_norm(5.), bias_constraint=max_norm(5.),\n",
    "                   kernel_initializer=my_init, recurrent_initializer=my_init, bias_initializer='zeros',\n",
    "                   stateful=True, return_sequences=True))\n",
    "    model.add(LSTM(units = hidden_units, batch_input_shape=(batch_size,num_steps, embedding_dim), dropout = dropout,\n",
    "                   kernel_constraint=max_norm(5.), recurrent_constraint=max_norm(5.), bias_constraint=max_norm(5.),\n",
    "                   kernel_initializer=my_init, recurrent_initializer=my_init, bias_initializer='zeros',\n",
    "                   stateful=True, return_sequences=True))\n",
    "  \n",
    "model.add(Dropout(dropout)) #third and final drop out. If there are L layers of LSTM, there are L+1 Dropouts\n",
    "model.add(TimeDistributed(Dense(V)))\n",
    "model.add(Activation('softmax'))\n",
    "\n",
    "\n",
    "\n",
    "print(model.summary())\n",
    "base_lr = 0.5\n",
    "for i in range(nb_epoch):  \n",
    "    decay = 1.2 if i>=6 else 1\n",
    "    lr = base_lr/decay\n",
    "    optimizer = SGD(lr=lr)\n",
    "    model.compile(loss='categorical_crossentropy', optimizer=optimizer,  metrics=['categorical_accuracy'])\n",
    "    #categorical accuracy, example in 3 class category prediction:\n",
    "    # y_ture = [[1,0,0],[0,1,0]] y_pred = [[0.5,0.3,0.2], [0.8,0.2,0.2]]\n",
    "    # then we have one correct pred and one incorrect. resulting in categorical acc= 0.5\n",
    "\n",
    "    model.fit_generator(train_data_generator.generate(),\n",
    "                        steps_per_epoch= len(train_data)//(batch_size*num_steps),\n",
    "                        epochs =1,\n",
    "                        validation_data=valid_data_generator.generate(),\n",
    "                        validation_steps=len(valid_data)//(batch_size*num_steps), verbose = 1)\n",
    "    train_results = model.evaluate_generator(train_data_generator.generate(), steps= len(train_data)//(batch_size*num_steps)) \n",
    "    test_results = model.evaluate_generator(valid_data_generator.generate(), steps= len(valid_data)//(batch_size*num_steps))\n",
    "\n",
    "    perplexity_train = np.power(2,train_results[0]) # PPE = exp (categorical_crossentropy)\n",
    "    perplexity_val = np.power(2,test_results[0])\n",
    "    print('After Epoch : {}, PPE train : {}, PPE val : {}'.format(i+1, perplexity_train, perplexity_val))\n",
    "    ppe_train.append(perplexity_train)\n",
    "    ppe_val.append(perplexity_val)\n",
    "    model.reset_states()\n",
    "\n",
    "print('evaluating on Test set')\n",
    "test_results = model.evaluate_generator(test_data_generator.generate(), steps= len(test_data)//(batch_size*num_steps))\n",
    "print('Perplexity on Test Set: {}'.format( np.power(2,test_results[0])))\n",
    "print('Crossentropy on Test Set: {}'.format((test_results[0])))\n",
    "\n",
    "model.save(os.path.join(MODEL_PATH,\"model_use_gru:{}_use_dropout:{}.hdf5\".format(USE_GRU, USE_DROPOUT)))\n"
   ]
  },
  {
   "cell_type": "code",
   "execution_count": 20,
   "metadata": {
    "id": "M9fNDUCs3JlJ",
    "colab_type": "code",
    "colab": {
     "base_uri": "https://localhost:8080/",
     "height": 800.0
    },
    "outputId": "d085a16a-6fb0-4399-e37e-c40101ea11cf",
    "executionInfo": {
     "status": "ok",
     "timestamp": 1.587983168083E12,
     "user_tz": -180.0,
     "elapsed": 4957409.0,
     "user": {
      "displayName": "Allon Hammer",
      "photoUrl": "",
      "userId": "02574940989744991599"
     }
    }
   },
   "outputs": [
    {
     "data": {
      "image/png": "[encoded data removed]",
      "text/plain": [
       "<Figure size 1200x800 with 1 Axes>"
      ]
     },
     "metadata": {
      "tags": []
     },
     "output_type": "display_data"
    }
   ],
   "source": [
    "plot_results(loss=ppe_train, val_loss=ppe_val, epochs=nb_epoch, suffix='use_drop_out_:_{}_use_gru_:_{}'.format(USE_DROPOUT, USE_GRU))"
   ]
  },
  {
   "cell_type": "markdown",
   "metadata": {
    "id": "bonEm7YyMC8V",
    "colab_type": "text"
   },
   "source": [
    "# Load Pretrained models \n",
    "for **GRU** model **without** dropout set type = 1\n",
    "\n",
    "for **GRU** model **with** drop out set type = 2\n",
    "\n",
    "for **LSTM** model **without** dropout set type =3 \n",
    "\n",
    "for **LSTM** model with drop out set type =4"
   ]
  },
  {
   "cell_type": "code",
   "execution_count": 0,
   "metadata": {
    "id": "0BRnMnujMp9c",
    "colab_type": "code",
    "colab": {}
   },
   "outputs": [],
   "source": [
    "TYPE = 4"
   ]
  },
  {
   "cell_type": "code",
   "execution_count": 0,
   "metadata": {
    "id": "kVauUbz5Mv-k",
    "colab_type": "code",
    "colab": {}
   },
   "outputs": [],
   "source": [
    "assert TYPE in (1,2,3,4)"
   ]
  },
  {
   "cell_type": "code",
   "execution_count": 0,
   "metadata": {
    "id": "GVYxqkgIM52o",
    "colab_type": "code",
    "colab": {}
   },
   "outputs": [],
   "source": [
    "model_mapping = {1: './pretrained_models/model_use_gru:True_use_dropout:False.hdf5',\n",
    "                 2: './pretrained_models/model_use_gru:True_use_dropout:True.hdf5',\n",
    "                 3: './pretrained_models/model_use_gru:False_use_dropout:False.hdf5',\n",
    "                 4: './pretrained_models/model_use_gru:False_use_dropout:True.hdf5'}"
   ]
  },
  {
   "cell_type": "code",
   "execution_count": 0,
   "metadata": {
    "id": "8bbEeR6uNOPZ",
    "colab_type": "code",
    "colab": {}
   },
   "outputs": [],
   "source": [
    "path_to_model = model_mapping[TYPE]"
   ]
  },
  {
   "cell_type": "code",
   "execution_count": 74,
   "metadata": {
    "id": "3QQLmFEV5OBm",
    "colab_type": "code",
    "outputId": "70b6e92b-8fb8-4745-b6f0-dd98f985a504",
    "executionInfo": {
     "status": "ok",
     "timestamp": 1.587984735518E12,
     "user_tz": -180.0,
     "elapsed": 6323.0,
     "user": {
      "displayName": "Allon Hammer",
      "photoUrl": "",
      "userId": "02574940989744991599"
     }
    },
    "colab": {
     "base_uri": "https://localhost:8080/",
     "height": 105.0
    }
   },
   "outputs": [
    {
     "name": "stderr",
     "output_type": "stream",
     "text": [
      "/usr/local/lib/python3.6/dist-packages/tensorflow/python/framework/indexed_slices.py:434: UserWarning: Converting sparse IndexedSlices to a dense Tensor of unknown shape. This may consume a large amount of memory.\n",
      "  \"Converting sparse IndexedSlices to a dense Tensor of unknown shape. \"\n"
     ]
    },
    {
     "name": "stdout",
     "output_type": "stream",
     "text": [
      "Perplexity on Test Set: 68.99791828512193\n",
      "Crossentropy on Test Set: 6.108480930328369\n"
     ]
    }
   ],
   "source": [
    "\n",
    "load_pretrained_model(path_to_model)\n"
   ]
  },
  {
   "cell_type": "code",
   "execution_count": 0,
   "metadata": {
    "id": "9309SFkkS0Xj",
    "colab_type": "code",
    "colab": {}
   },
   "outputs": [],
   "source": [
    ""
   ]
  }
 ],
 "metadata": {
  "colab": {
   "name": "PennTreeBankLanguageModel",
   "provenance": [],
   "collapsed_sections": []
  },
  "kernelspec": {
   "name": "python3",
   "display_name": "Python 3"
  },
  "accelerator": "GPU"
 },
 "nbformat": 4,
 "nbformat_minor": 0
}
